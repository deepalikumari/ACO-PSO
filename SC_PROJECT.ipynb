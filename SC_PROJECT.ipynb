{
  "nbformat": 4,
  "nbformat_minor": 0,
  "metadata": {
    "colab": {
      "provenance": [],
      "gpuType": "T4"
    },
    "kernelspec": {
      "name": "python3",
      "display_name": "Python 3"
    },
    "language_info": {
      "name": "python"
    },
    "accelerator": "GPU"
  },
  "cells": [
    {
      "cell_type": "markdown",
      "source": [
        "# PSO CODE"
      ],
      "metadata": {
        "id": "ZZO-SYbqeNlC"
      }
    },
    {
      "cell_type": "code",
      "source": [
        "import numpy as np\n",
        "import matplotlib.pyplot as plt\n",
        "\n",
        "# Number of cities\n",
        "num_cities = 5\n",
        "\n",
        "# Distance matrix\n",
        "distance_matrix = np.array([[0, 2, 3, 10, 12],\n",
        "                            [2, 0, 15, 2, 20],\n",
        "                            [3, 15, 0, 14, 13],\n",
        "                            [10, 2, 14, 0, 9],\n",
        "                            [12, 20, 13, 9, 0]])\n",
        "\n",
        "# Parameters\n",
        "num_particles = 10\n",
        "num_iterations = 100\n",
        "w = 0.5  # Inertia weight\n",
        "c1 = 2.0  # Cognitive weight\n",
        "c2 = 2.0  # Social weight\n",
        "\n",
        "# Initialize particles\n",
        "particles = np.zeros((num_particles, num_cities-1), dtype=np.int64)\n",
        "for i in range(num_particles):\n",
        "    particles[i] = np.random.permutation(range(1, num_cities))\n",
        "\n",
        "# Initialize velocities\n",
        "velocities = np.zeros_like(particles, dtype=np.float64)\n",
        "\n",
        "# Initialize global best\n",
        "global_best_particle = particles[0].copy()  # Initialize with the first particle\n",
        "global_best_length = float('inf')\n",
        "\n",
        "# Main loop\n",
        "for iteration in range(num_iterations):\n",
        "    # Update velocities and particles\n",
        "    for i in range(num_particles):\n",
        "        particle = particles[i]\n",
        "        velocity = velocities[i]\n",
        "\n",
        "        # Calculate fitness values\n",
        "        fitness_values = np.zeros(num_cities-1, dtype=np.float64)\n",
        "        for j in range(num_cities-1):\n",
        "            city1 = 0 if j == 0 else particle[j-1]\n",
        "            city2 = particle[j]\n",
        "            fitness_values[j] = distance_matrix[city1, city2]\n",
        "\n",
        "        # Update velocities\n",
        "        r1 = np.random.uniform(size=num_cities-1)\n",
        "        r2 = np.random.uniform(size=num_cities-1)\n",
        "        velocities[i] = (w * velocity +\n",
        "                         c1 * r1 * (particle - particle.min()) +\n",
        "                         c2 * r2 * (particle - global_best_particle))\n",
        "\n",
        "        # Update particles\n",
        "        particles[i] = np.argsort(velocities[i]) + 1\n",
        "\n",
        "        # Calculate particle length\n",
        "        particle_length = sum(fitness_values)\n",
        "\n",
        "        # Update global best\n",
        "        if particle_length < global_best_length:\n",
        "            global_best_particle = particles[i].copy()\n",
        "            global_best_length = particle_length\n",
        "\n",
        "# Print the best solution and its length\n",
        "best_solution = np.concatenate(([0], global_best_particle, [0]))\n",
        "print(\"Best solution (PSO):\", best_solution)\n",
        "print(\"Best solution length (PSO):\", global_best_length)\n",
        "\n",
        "# Plot the best solution\n",
        "x = [0, 1, 2, 3, 4, 0]\n",
        "y = [0, 2, 3, 15, 13, 0]\n",
        "plt.plot(x, y, 'ro-')\n",
        "plt.xticks(x)\n",
        "plt.yticks(y)\n",
        "plt.xlabel('City')\n",
        "plt.ylabel('Distance')\n",
        "plt.title('Best Solution (PSO)')\n",
        "plt.grid(True)\n",
        "plt.show()\n"
      ],
      "metadata": {
        "colab": {
          "base_uri": "https://localhost:8080/",
          "height": 507
        },
        "id": "iOFKfF6Alpe6",
        "outputId": "22b36919-9db2-4f91-f8ce-1e6a1c4af143"
      },
      "execution_count": 1,
      "outputs": [
        {
          "output_type": "stream",
          "name": "stdout",
          "text": [
            "Best solution (PSO): [0 1 4 3 2 0]\n",
            "Best solution length (PSO): 26.0\n"
          ]
        },
        {
          "output_type": "display_data",
          "data": {
            "text/plain": [
              "<Figure size 640x480 with 1 Axes>"
            ],
            "image/png": "[encoded data removed]"
          },
          "metadata": {}
        }
      ]
    },
    {
      "cell_type": "code",
      "source": [],
      "metadata": {
        "id": "MAfLNfgHlqLO"
      },
      "execution_count": null,
      "outputs": []
    },
    {
      "cell_type": "code",
      "source": [],
      "metadata": {
        "id": "l4RgXQuAeUJf"
      },
      "execution_count": null,
      "outputs": []
    },
    {
      "cell_type": "code",
      "source": [],
      "metadata": {
        "id": "CsmOCLLzeUMZ"
      },
      "execution_count": null,
      "outputs": []
    },
    {
      "cell_type": "code",
      "source": [],
      "metadata": {
        "id": "NYuijS9LeUPy"
      },
      "execution_count": null,
      "outputs": []
    },
    {
      "cell_type": "code",
      "source": [],
      "metadata": {
        "id": "zaWnCKNVeUTu"
      },
      "execution_count": null,
      "outputs": []
    },
    {
      "cell_type": "code",
      "source": [],
      "metadata": {
        "id": "wvWWJRuOmFCq"
      },
      "execution_count": null,
      "outputs": []
    },
    {
      "cell_type": "markdown",
      "source": [
        "# ACO CODE"
      ],
      "metadata": {
        "id": "ooRaWE7NeVP3"
      }
    },
    {
      "cell_type": "code",
      "source": [
        "import numpy as np\n",
        "import matplotlib.pyplot as plt\n",
        "\n",
        "# Number of cities\n",
        "num_cities = 5\n",
        "\n",
        "# Distance matrix\n",
        "distance_matrix = np.array([[0, 2, 3, 10, 12],\n",
        "                            [2, 0, 15, 2, 20],\n",
        "                            [3, 15, 0, 14, 13],\n",
        "                            [10, 2, 14, 0, 9],\n",
        "                            [12, 20, 13, 9, 0]])\n",
        "\n",
        "# Parameters\n",
        "num_ants = 50\n",
        "num_iterations = 100\n",
        "alpha = 1.0  # Pheromone factor\n",
        "beta = 5.0  # Heuristic factor\n",
        "rho = 0.5  # Pheromone evaporation rate\n",
        "\n",
        "# Initialize pheromone matrix\n",
        "pheromone_matrix = np.ones_like(distance_matrix) / num_cities\n",
        "\n",
        "# Initialize best solution\n",
        "best_solution = None\n",
        "best_solution_length = float('inf')\n",
        "\n",
        "# Main loop\n",
        "for iteration in range(num_iterations):\n",
        "    # Initialize ant solutions\n",
        "    ant_solutions = []\n",
        "    ant_solution_lengths = []\n",
        "\n",
        "    # Ant construction phase\n",
        "    for ant in range(num_ants):\n",
        "        current_city = 0  # Start from city 0\n",
        "        unvisited_cities = set(range(1, num_cities))\n",
        "        ant_solution = [current_city]\n",
        "        ant_solution_length = 0\n",
        "\n",
        "        while unvisited_cities:\n",
        "            # Calculate selection probabilities for the next city\n",
        "            selection_probs = []\n",
        "            for next_city in unvisited_cities:\n",
        "                pheromone = pheromone_matrix[current_city, next_city]\n",
        "                distance = distance_matrix[current_city, next_city]\n",
        "                if distance <= 0:\n",
        "                    distance = 1e-10  # Set a small positive value for zero or negative distance\n",
        "                selection_prob = pheromone**alpha * (1.0 / distance)**beta\n",
        "                selection_probs.append(selection_prob)\n",
        "\n",
        "            # Choose the next city based on the selection probabilities\n",
        "            selection_probs = np.array(selection_probs) / sum(selection_probs)\n",
        "            next_city = np.random.choice(list(unvisited_cities), p=selection_probs)\n",
        "\n",
        "            # Update the ant solution and length\n",
        "            ant_solution.append(next_city)\n",
        "            ant_solution_length += distance_matrix[current_city, next_city]\n",
        "\n",
        "            # Move to the next city\n",
        "            current_city = next_city\n",
        "            unvisited_cities.remove(next_city)\n",
        "\n",
        "        # Add the return to the starting city\n",
        "        ant_solution.append(0)\n",
        "        ant_solution_length += distance_matrix[current_city, 0]\n",
        "\n",
        "        # Update the best solution if necessary\n",
        "        if ant_solution_length < best_solution_length:\n",
        "            best_solution = ant_solution\n",
        "            best_solution_length = ant_solution_length\n",
        "\n",
        "        # Store the ant solution\n",
        "        ant_solutions.append(ant_solution)\n",
        "        ant_solution_lengths.append(ant_solution_length)\n",
        "\n",
        "    # Update pheromone matrix using ant solutions\n",
        "    delta_pheromone_matrix = np.zeros_like(pheromone_matrix, dtype=np.float64)\n",
        "    for ant_solution, ant_solution_length in zip(ant_solutions, ant_solution_lengths):\n",
        "        for i in range(len(ant_solution) - 1):\n",
        "            current_city = ant_solution[i]\n",
        "            next_city = ant_solution[i+1]\n",
        "            delta_pheromone_matrix[current_city, next_city] += 1.0 / ant_solution_length\n",
        "\n",
        "    pheromone_matrix = (1 - rho) * pheromone_matrix + delta_pheromone_matrix\n",
        "\n",
        "# Calculate the sum of city distances for the best solution\n",
        "sum_distances = sum(distance_matrix[best_solution[i], best_solution[i + 1]] for i in range(len(best_solution) - 1))\n",
        "sum_distances += distance_matrix[best_solution[-1], 0]\n",
        "\n",
        "# Print the best solution, its length, and the sum of city distances\n",
        "print(\"Best solution (ACO):\", best_solution)\n",
        "print(\"Best solution length (ACO):\", best_solution_length)\n",
        "print(\"Sum of City Distances: \", end=\"\")\n",
        "for i in range(len(best_solution) - 1):\n",
        "    print(f\"{distance_matrix[best_solution[i], best_solution[i + 1]]} + \", end=\"\")\n",
        "print(distance_matrix[best_solution[-1], 0])\n",
        "print(\"Sum of City Distances:\", sum_distances)\n",
        "\n",
        "# Plot the best solution\n",
        "x = []\n",
        "y = []\n",
        "for city in best_solution:\n",
        "    x.append(city)\n",
        "    y.append(distance_matrix[city, 0])\n",
        "x.append(0)\n",
        "y.append(distance_matrix[best_solution[-1], 0])\n",
        "\n",
        "plt.plot(x, y, 'ro-')\n",
        "plt.xlabel('City')\n",
        "plt.ylabel('Distance')\n",
        "plt.title('Best Solution (ACO)')\n",
        "plt.grid(True)\n",
        "plt.show()\n"
      ],
      "metadata": {
        "colab": {
          "base_uri": "https://localhost:8080/",
          "height": 541
        },
        "id": "k78bYoGZIdRe",
        "outputId": "68d33686-42c0-4549-d14e-ba4e9daf9756"
      },
      "execution_count": null,
      "outputs": [
        {
          "output_type": "stream",
          "name": "stdout",
          "text": [
            "Best solution (ACO): [0, 1, 3, 4, 2, 0]\n",
            "Best solution length (ACO): 29\n",
            "Sum of City Distances: 2 + 2 + 9 + 13 + 3 + 0\n",
            "Sum of City Distances: 29\n"
          ]
        },
        {
          "output_type": "display_data",
          "data": {
            "text/plain": [
              "<Figure size 640x480 with 1 Axes>"
            ],
            "image/png": "[encoded data removed]"
          },
          "metadata": {}
        }
      ]
    },
    {
      "cell_type": "code",
      "source": [],
      "metadata": {
        "id": "HBdq6VAR5cjF"
      },
      "execution_count": null,
      "outputs": []
    },
    {
      "cell_type": "code",
      "source": [],
      "metadata": {
        "id": "A0sGJ2Y-eE-s"
      },
      "execution_count": null,
      "outputs": []
    },
    {
      "cell_type": "code",
      "source": [],
      "metadata": {
        "id": "tROz3j6teFBn"
      },
      "execution_count": null,
      "outputs": []
    },
    {
      "cell_type": "code",
      "source": [],
      "metadata": {
        "id": "dT5TETZgeFFJ"
      },
      "execution_count": null,
      "outputs": []
    },
    {
      "cell_type": "code",
      "source": [],
      "metadata": {
        "id": "2GF9P3EoeFGo"
      },
      "execution_count": null,
      "outputs": []
    },
    {
      "cell_type": "code",
      "source": [],
      "metadata": {
        "id": "tybfFpzteFK9"
      },
      "execution_count": null,
      "outputs": []
    },
    {
      "cell_type": "code",
      "source": [],
      "metadata": {
        "id": "EfcBIfCeeFLq"
      },
      "execution_count": null,
      "outputs": []
    },
    {
      "cell_type": "code",
      "source": [],
      "metadata": {
        "id": "9mzlRJ89eFN_"
      },
      "execution_count": null,
      "outputs": []
    },
    {
      "cell_type": "markdown",
      "source": [
        "# HYBRID ALGORITHM (PSO + ACO)"
      ],
      "metadata": {
        "id": "ckYCaYZCfWhT"
      }
    },
    {
      "cell_type": "code",
      "source": [
        "import numpy as np\n",
        "import matplotlib.pyplot as plt\n",
        "\n",
        "def aco_pso_tsp(distance_matrix, num_ants, num_iterations, alpha, beta, rho, q0, w, c1, c2):\n",
        "    num_cities = distance_matrix.shape[0]\n",
        "\n",
        "    # Initialize pheromone matrix\n",
        "    pheromone_matrix = np.ones_like(distance_matrix) / num_cities\n",
        "\n",
        "    # Initialize best solution\n",
        "    best_solution = None\n",
        "    best_solution_length = float('inf')\n",
        "\n",
        "    # Main loop\n",
        "    for iteration in range(num_iterations):\n",
        "        # Initialize ant solutions\n",
        "        ant_solutions = []\n",
        "        ant_solution_lengths = []\n",
        "\n",
        "        # Ant construction phase\n",
        "        for ant in range(num_ants):\n",
        "            current_city = 0  # Start from city 0\n",
        "            unvisited_cities = set(range(1, num_cities))\n",
        "            ant_solution = [current_city]\n",
        "            ant_solution_length = 0\n",
        "\n",
        "            while unvisited_cities:\n",
        "                # Calculate selection probabilities for the next city\n",
        "                selection_probs = []\n",
        "                for next_city in unvisited_cities:\n",
        "                    pheromone = pheromone_matrix[current_city, next_city]\n",
        "                    distance = distance_matrix[current_city, next_city]\n",
        "                    selection_prob = pheromone**alpha * (1.0 / distance)**beta\n",
        "                    selection_probs.append(selection_prob)\n",
        "\n",
        "                # Choose the next city based on the selection probabilities\n",
        "                if np.random.uniform() < q0:\n",
        "                    next_city = list(unvisited_cities)[np.argmax(selection_probs)]\n",
        "                else:\n",
        "                    selection_probs = np.array(selection_probs) / sum(selection_probs)\n",
        "                    next_city = np.random.choice(list(unvisited_cities), p=selection_probs)\n",
        "\n",
        "                # Update the ant solution and length\n",
        "                ant_solution.append(next_city)\n",
        "                ant_solution_length += distance_matrix[current_city, next_city]\n",
        "\n",
        "                # Move to the next city\n",
        "                current_city = next_city\n",
        "                unvisited_cities.remove(next_city)\n",
        "\n",
        "            # Add the return to the starting city\n",
        "            ant_solution.append(0)\n",
        "            ant_solution_length += distance_matrix[current_city, 0]\n",
        "\n",
        "            # Update the best solution if necessary\n",
        "            if ant_solution_length < best_solution_length:\n",
        "                best_solution = ant_solution\n",
        "                best_solution_length = ant_solution_length\n",
        "\n",
        "            # Store the ant solution\n",
        "            ant_solutions.append(ant_solution)\n",
        "            ant_solution_lengths.append(ant_solution_length)\n",
        "\n",
        "        # Update pheromone matrix using ant solutions\n",
        "        delta_pheromone_matrix = np.zeros_like(pheromone_matrix, dtype=np.float64)  # Specify float64 dtype\n",
        "        for ant_solution, ant_solution_length in zip(ant_solutions, ant_solution_lengths):\n",
        "            for i in range(len(ant_solution) - 1):\n",
        "                current_city = ant_solution[i]\n",
        "                next_city = ant_solution[i+1]\n",
        "                delta_pheromone_matrix[current_city, next_city] += 1.0 / ant_solution_length\n",
        "\n",
        "        pheromone_matrix = (1 - rho) * pheromone_matrix + delta_pheromone_matrix\n",
        "\n",
        "    # Particle Swarm Optimization (PSO) phase\n",
        "    for ant in range(num_ants):\n",
        "        ant_solution = ant_solutions[ant]\n",
        "        ant_solution_length = ant_solution_lengths[ant]\n",
        "\n",
        "        # Initialize particle position and velocity\n",
        "        particle_position = np.array(ant_solution[1:-1], dtype=np.int64)  # Specify int64 dtype\n",
        "        particle_velocity = np.zeros_like(particle_position, dtype=np.float64)  # Specify float64 dtype\n",
        "        particle_best_position = particle_position.copy()\n",
        "        particle_best_length = ant_solution_length\n",
        "\n",
        "        # Update particle position and velocity\n",
        "        for _ in range(num_iterations):\n",
        "            # Calculate particle fitness\n",
        "            particle_fitness = ant_solution_length\n",
        "\n",
        "            # Update particle best position and length\n",
        "            if particle_fitness < particle_best_length:\n",
        "                particle_best_position = particle_position.copy()\n",
        "                particle_best_length = particle_fitness\n",
        "\n",
        "            # Update particle velocity and position\n",
        "            r1 = np.random.uniform(0,1)\n",
        "            r2 = np.random.uniform(0,1)\n",
        "            particle_velocity = (w * particle_velocity +\n",
        "                                 c1 * r1 * (particle_best_position - particle_position) +\n",
        "                                 c2 * r2 * (best_solution[1:-1] - particle_position))\n",
        "            particle_position = (particle_position + particle_velocity).astype(np.int64)  # Convert to int64\n",
        "\n",
        "        # Update ant solution based on the particle best position\n",
        "        ant_solution[1:-1] = particle_best_position.tolist()\n",
        "        ant_solution_length = particle_best_length\n",
        "\n",
        "    # Update the best solution if necessary\n",
        "    if min(ant_solution_lengths) < best_solution_length:\n",
        "        best_solution = ant_solutions[np.argmin(ant_solution_lengths)]\n",
        "        best_solution_length = min(ant_solution_lengths)\n",
        "\n",
        "    return best_solution, best_solution_length\n",
        "\n",
        "\n",
        "# Number of cities\n",
        "num_cities = 5\n",
        "\n",
        "# Distance matrix\n",
        "distance_matrix = np.array([[0, 2, 3, 10, 12],\n",
        "                            [2, 0, 15, 2, 20],\n",
        "                            [3, 15, 0, 14, 13],\n",
        "                            [10, 2, 14, 0, 9],\n",
        "                            [12, 20, 13, 9, 0]])\n",
        "\n",
        "# Parameters\n",
        "num_ants = 50  # Number of ants\n",
        "num_iterations = 100  # Number of iterations\n",
        "alpha = 1.0  # Pheromone factor\n",
        "beta = 5.0  # Heuristic factor\n",
        "rho = 0.5  # Pheromone evaporation rate\n",
        "q0 = 0.8  # Probability of selecting the best next city\n",
        "w = 0.5  # Inertia weight (for PSO)\n",
        "c1 = 2.0  # Cognitive weight (for PSO)\n",
        "c2 = 2.0  # Social weight (for PSO)\n",
        "\n",
        "# Run ACO-PSO algorithm\n",
        "best_solution, best_solution_length = aco_pso_tsp(distance_matrix, num_ants, num_iterations, alpha, beta, rho, q0, w, c1, c2)\n",
        "\n",
        "# Print the best solution and its length\n",
        "print(\"Best solution:\", best_solution)\n",
        "print(\"Best solution length:\", best_solution_length)\n",
        "\n",
        "# Plotting the cities and the best solution\n",
        "x = np.random.rand(num_cities)\n",
        "y = np.random.rand(num_cities)\n",
        "\n",
        "plt.scatter(x, y, color='red')\n",
        "for i in range(num_cities):\n",
        "    plt.text(x[i], y[i], f'City {i}', ha='center', va='bottom')\n",
        "\n",
        "best_x = [x[i] for i in best_solution]\n",
        "best_y = [y[i] for i in best_solution]\n",
        "\n",
        "plt.plot(best_x, best_y, color='blue', linestyle='--', marker='o')\n",
        "\n",
        "plt.xlabel('X')\n",
        "plt.ylabel('Y')\n",
        "plt.title('Best Solution')\n",
        "plt.grid(True)\n",
        "plt.show()\n"
      ],
      "metadata": {
        "colab": {
          "base_uri": "https://localhost:8080/",
          "height": 507
        },
        "id": "YN5XRLpmeFSP",
        "outputId": "0bcfa242-ad9b-4abb-e852-000a1cc4cac8"
      },
      "execution_count": 3,
      "outputs": [
        {
          "output_type": "stream",
          "name": "stdout",
          "text": [
            "Best solution: [0, 1, 3, 4, 2, 0]\n",
            "Best solution length: 29\n"
          ]
        },
        {
          "output_type": "display_data",
          "data": {
            "text/plain": [
              "<Figure size 640x480 with 1 Axes>"
            ],
            "image/png": "[encoded data removed]"
          },
          "metadata": {}
        }
      ]
    },
    {
      "cell_type": "code",
      "source": [],
      "metadata": {
        "id": "DF0XPYyl6AN9"
      },
      "execution_count": null,
      "outputs": []
    }
  ]
}